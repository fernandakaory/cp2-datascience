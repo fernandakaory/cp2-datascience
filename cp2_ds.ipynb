{
  "nbformat": 4,
  "nbformat_minor": 0,
  "metadata": {
    "colab": {
      "provenance": []
    },
    "kernelspec": {
      "name": "python3",
      "display_name": "Python 3"
    },
    "language_info": {
      "name": "python"
    }
  },
  "cells": [
    {
      "cell_type": "markdown",
      "source": [
        "<p> Fernanda Kaory - RM551104</p>\n",
        "<p> Lucas Toledo - RM97913</p>"
      ],
      "metadata": {
        "id": "ZlSPXJtmJZKL"
      }
    },
    {
      "cell_type": "code",
      "execution_count": 12,
      "metadata": {
        "id": "-nKUf3jHVpb7"
      },
      "outputs": [],
      "source": [
        "import pandas as pd\n",
        "import numpy as np\n",
        "import matplotlib.pyplot as plt\n",
        "import seaborn as sns\n",
        "from jinja2 import Template\n",
        "import base64\n",
        "from io import BytesIO"
      ]
    },
    {
      "cell_type": "code",
      "source": [
        "data = sns.load_dataset('iris')"
      ],
      "metadata": {
        "id": "-lpjROOJVwdV"
      },
      "execution_count": 2,
      "outputs": []
    },
    {
      "cell_type": "code",
      "source": [
        "def gerar_overview(df):\n",
        "    estatisticas = {\n",
        "        'Número de variáveis': df.shape[1],\n",
        "        'Número de observações': df.shape[0],\n",
        "        'Células faltantes': df.isnull().sum().sum(),\n",
        "        'Células faltantes (%)': (df.isnull().sum().sum() / (df.shape[0] * df.shape[1])) * 100,\n",
        "        'Linhas duplicadas': df.duplicated().sum(),\n",
        "        'Linhas duplicadas (%)': (df.duplicated().sum() / df.shape[0]) * 100\n",
        "\n",
        "    }\n",
        "\n",
        "    # Contar tipos de variáveis\n",
        "    tipos_var = {\n",
        "        'Numéricas': len(df.select_dtypes(include=[np.number]).columns),\n",
        "        'Categóricas': len(df.select_dtypes(include=['object']).columns)\n",
        "    }\n",
        "\n",
        "    return estatisticas, tipos_var"
      ],
      "metadata": {
        "id": "6A4TZCTIV0Wy"
      },
      "execution_count": 10,
      "outputs": []
    },
    {
      "cell_type": "code",
      "source": [
        "# Função para gerar estatísticas descritivas ajustadas\n",
        "def gerar_estatisticas(df):\n",
        "    estatisticas_numericas = df.describe(include=[np.number]).transpose()  # Estatísticas numéricas\n",
        "    estatisticas_categoricas = df.describe(include=['object']).transpose()  # Estatísticas categóricas\n",
        "\n",
        "    # Ajusta os resultados removendo colunas irrelevantes para cada tipo\n",
        "    estatisticas_numericas = estatisticas_numericas[['count', 'mean', 'std', 'min', '25%', '50%', '75%', 'max']]\n",
        "    estatisticas_categoricas = estatisticas_categoricas[['count', 'unique', 'top', 'freq']]\n",
        "\n",
        "    # Combina as duas tabelas\n",
        "    estatisticas_combinação = pd.concat([estatisticas_numericas, estatisticas_categoricas], axis=0)\n",
        "\n",
        "    return estatisticas_combinação"
      ],
      "metadata": {
        "id": "AUg1TnWMV3O_"
      },
      "execution_count": 3,
      "outputs": []
    },
    {
      "cell_type": "code",
      "source": [
        "# Função para analisar colunas numéricas\n",
        "def analisar_numerica(df, coluna):\n",
        "    estatisticas = {\n",
        "        'Distintas': df[coluna].nunique(),\n",
        "        'Distintas (%)': f\"{(df[coluna].nunique() / len(df)) * 100:.1f}%\",\n",
        "        'Faltantes': df[coluna].isnull().sum(),\n",
        "        'Faltantes (%)': f\"{(df[coluna].isnull().sum() / len(df)) * 100:.1f}%\",\n",
        "        'Média': df[coluna].mean(),\n",
        "        'Mínimo': df[coluna].min(),\n",
        "        'Máximo': df[coluna].max(),\n",
        "        'Zeros': (df[coluna] == 0).sum(),\n",
        "        'Zeros (%)': f\"{(df[coluna] == 0).sum() / len(df) * 100:.1f}%\"\n",
        "\n",
        "    }\n",
        "\n",
        "    # Gerar gráfico de distribuição\n",
        "    plt.figure(figsize=(5, 3))\n",
        "    sns.histplot(df[coluna].dropna(), bins=20, kde=False)\n",
        "    plt.title(f'Distribuição de {coluna}')\n",
        "    plt.tight_layout()\n",
        "\n",
        "    # Salvar gráfico como imagem\n",
        "    img = BytesIO()\n",
        "    plt.savefig(img, format='png')\n",
        "    img.seek(0)\n",
        "    img_b64 = base64.b64encode(img.getvalue()).decode()\n",
        "    plt.close()\n",
        "\n",
        "    return estatisticas, img_b64"
      ],
      "metadata": {
        "id": "dHlAPTttV-1h"
      },
      "execution_count": 4,
      "outputs": []
    },
    {
      "cell_type": "code",
      "source": [
        "# Função para analisar colunas categóricas\n",
        "def analisar_categorica(df, coluna):\n",
        "    estatisticas = {\n",
        "        'Distintas': df[coluna].nunique(),\n",
        "        'Distintas (%)': f\"{(df[coluna].nunique() / len(df)) * 100:.1f}%\",\n",
        "        'Faltantes': df[coluna].isnull().sum(),\n",
        "        'Faltantes (%)': f\"{(df[coluna].isnull().sum() / len(df)) * 100:.1f}%\"\n",
        "\n",
        "    }\n",
        "\n",
        "    # Gerar gráfico de barras\n",
        "    plt.figure(figsize=(5, 3))\n",
        "    sns.countplot(y=df[coluna], order=df[coluna].value_counts().index)\n",
        "    plt.title(f'Distribuição de {coluna}')\n",
        "    plt.tight_layout()\n",
        "\n",
        "    # Salvar gráfico como imagem\n",
        "    img = BytesIO()\n",
        "    plt.savefig(img, format='png')\n",
        "    img.seek(0)\n",
        "    img_b64 = base64.b64encode(img.getvalue()).decode()\n",
        "    plt.close()\n",
        "\n",
        "    return estatisticas, img_b64\n"
      ],
      "metadata": {
        "id": "TWLp9jNrWECh"
      },
      "execution_count": 5,
      "outputs": []
    },
    {
      "cell_type": "code",
      "source": [
        "# Função para gerar gráficos de dispersão entre variáveis numéricas\n",
        "def gerar_dispersao(df):\n",
        "    graficos_dispersao = []\n",
        "    colunas_numericas = df.select_dtypes(include=['float64', 'int64']).columns\n",
        "    for i, col1 in enumerate(colunas_numericas):\n",
        "        for col2 in colunas_numericas[i+1:]:\n",
        "            plt.figure(figsize=(8, 6))\n",
        "            sns.scatterplot(x=df[col1], y=df[col2], hue=df['species'], palette='deep')\n",
        "            plt.title(f'Gráfico de dispersão entre {col1} e {col2}')\n",
        "            img = BytesIO()\n",
        "            plt.savefig(img, format='png')\n",
        "            img.seek(0)\n",
        "            img_b64 = base64.b64encode(img.getvalue()).decode()\n",
        "            plt.close()\n",
        "            graficos_dispersao.append((f'Gráfico de dispersão entre {col1} e {col2}', img_b64))\n",
        "    return graficos_dispersao\n"
      ],
      "metadata": {
        "id": "tCtnJbstWI-1"
      },
      "execution_count": 6,
      "outputs": []
    },
    {
      "cell_type": "code",
      "source": [
        "# Função para gerar matriz de correlação (considerando apenas variáveis numéricas)\n",
        "def gerar_correlacao(df):\n",
        "    df_numerico = df.select_dtypes(include=['float64', 'int64'])  # Seleciona apenas colunas numéricas\n",
        "    if df_numerico.shape[1] > 1:  # Apenas gera o gráfico se houver mais de uma variável numérica\n",
        "        plt.figure(figsize=(10, 8))\n",
        "        matriz_correlacao = df_numerico.corr()\n",
        "        sns.heatmap(matriz_correlacao, annot=True, cmap='coolwarm', linewidths=0.5)\n",
        "        img = BytesIO()\n",
        "        plt.savefig(img, format='png')\n",
        "        img.seek(0)\n",
        "        img_b64 = base64.b64encode(img.getvalue()).decode()\n",
        "        plt.close()\n",
        "        return img_b64\n",
        "    else:\n",
        "        return None"
      ],
      "metadata": {
        "id": "czX80jBxWONP"
      },
      "execution_count": 7,
      "outputs": []
    },
    {
      "cell_type": "code",
      "source": [
        "def gerar_html(df):\n",
        "    colunas_numericas = df.select_dtypes(include=[np.number]).columns\n",
        "    colunas_categoricas = df.select_dtypes(include=['object', 'category']).columns\n",
        "\n",
        "    # Analisar colunas numéricas\n",
        "    analise_numerica = []\n",
        "    for col in colunas_numericas:\n",
        "        estatisticas, img = analisar_numerica(df, col)\n",
        "        analise_numerica.append((col, estatisticas, img))\n",
        "\n",
        "    # Analisar colunas categóricas\n",
        "    analise_categorica = []\n",
        "    for col in colunas_categoricas:\n",
        "        estatisticas, img = analisar_categorica(df, col)\n",
        "        analise_categorica.append((col, estatisticas, img))\n",
        "\n",
        "    # Gerar gráficos de dispersão\n",
        "    graficos_dispersao = gerar_dispersao(df)\n",
        "\n",
        "    # Gerar matriz de correlação\n",
        "    matriz_correlacao = gerar_correlacao(df)\n",
        "\n",
        "    # Gerar visão geral\n",
        "    estatisticas_gerais, tipos_var = gerar_overview(df)\n",
        "\n",
        "    # Modelo de HTML para o relatório\n",
        "    modelo_html = \"\"\"\n",
        "    <html>\n",
        "    <head>\n",
        "        <title>Relatório de Análise de Dados - Conjunto Iris</title>\n",
        "        <style>\n",
        "            body { font-family: Arial, sans-serif; padding: 20px; }\n",
        "            h1 { color: #16ab20; }\n",
        "            h2 { color: #074f0c; border-bottom: 2px solid #ddd; padding-bottom: 5px; }\n",
        "            table { width: 100%; border-collapse: collapse; margin-bottom: 20px; }\n",
        "            th, td { border: 1px solid #ddd; padding: 8px; text-align: left; }\n",
        "            th { background-color: #16ab20; }\n",
        "            img { margin: 10px 0; border: 1px solid #ddd; width: 300px; }\n",
        "            .tabela-estatisticas { margin-bottom: 30px; width: 45%; float: left; margin-right: 5%; }\n",
        "            .analise-coluna::after { content: \"\"; clear: both; display: table; }\n",
        "        </style>\n",
        "    </head>\n",
        "    <body>\n",
        "        <h1>Relatório de Análise de Dados - Conjunto Iris</h1>\n",
        "\n",
        "        <h2>Visão Geral do Dataset</h2>\n",
        "        <table>\n",
        "            <tr><th>Atributo</th><th>Valor</th></tr>\n",
        "            {% for chave, valor in estatisticas_gerais.items() %}\n",
        "                <tr><td>{{ chave }}</td><td>{{ valor }}</td></tr>\n",
        "            {% endfor %}\n",
        "        </table>\n",
        "\n",
        "        <h2>Tipos de Variáveis</h2>\n",
        "        <table>\n",
        "            <tr><th>Tipo</th><th>Quantidade</th></tr>\n",
        "            {% for tipo, quantidade in tipos_var.items() %}\n",
        "                <tr><td>{{ tipo }}</td><td>{{ quantidade }}</td></tr>\n",
        "            {% endfor %}\n",
        "        </table>\n",
        "\n",
        "        <div class=\"analise-coluna\">\n",
        "            {% for coluna, estatisticas, img in analise_numerica %}\n",
        "                <div class=\"tabela-estatisticas\">\n",
        "                    <h2>Análise da Coluna Numérica: {{ coluna }}</h2>\n",
        "                    <table>\n",
        "                        {% for chave, valor in estatisticas.items() %}\n",
        "                            <tr><td>{{ chave }}</td><td>{{ valor }}</td></tr>\n",
        "                        {% endfor %}\n",
        "                    </table>\n",
        "                    <img src=\"data:image/png;base64,{{ img }}\" alt=\"Gráfico de {{ coluna }}\">\n",
        "                </div>\n",
        "            {% endfor %}\n",
        "        </div>\n",
        "        <div class=\"analise-coluna\">\n",
        "            {% for coluna, estatisticas, img in analise_categorica %}\n",
        "                <div class=\"tabela-estatisticas\">\n",
        "                    <h2>Análise da Coluna Categórica: {{ coluna }}</h2>\n",
        "                    <table>\n",
        "                        {% for chave, valor in estatisticas.items() %}\n",
        "                            <tr><td>{{ chave }}</td><td>{{ valor }}</td></tr>\n",
        "                        {% endfor %}\n",
        "                    </table>\n",
        "                    <img src=\"data:image/png;base64,{{ img }}\" alt=\"Gráfico de {{ coluna }}\">\n",
        "                </div>\n",
        "            {% endfor %}\n",
        "        </div>\n",
        "\n",
        "        <h2>Gráficos de Dispersão</h2>\n",
        "        <div class=\"analise-coluna\">\n",
        "            {% for titulo, img in graficos_dispersao %}\n",
        "                <div class=\"tabela-estatisticas\">\n",
        "                    <h3>{{ titulo }}</h3>\n",
        "                    <img src=\"data:image/png;base64,{{ img }}\" alt=\"{{ titulo }}\">\n",
        "                </div>\n",
        "            {% endfor %}\n",
        "        </div>\n",
        "\n",
        "        {% if matriz_correlacao %}\n",
        "        <h2>Matriz de Correlação</h2>\n",
        "        <img src=\"data:image/png;base64,{{ matriz_correlacao }}\" alt=\"Matriz de Correlação\">\n",
        "        {% endif %}\n",
        "    </body>\n",
        "    </html>\n",
        "    \"\"\"\n",
        "\n",
        "    template = Template(modelo_html)\n",
        "    html_renderizado = template.render(\n",
        "        estatisticas_gerais=estatisticas_gerais,\n",
        "        tipos_var=tipos_var,\n",
        "        analise_numerica=analise_numerica,\n",
        "        analise_categorica=analise_categorica,\n",
        "        graficos_dispersao=graficos_dispersao,\n",
        "        matriz_correlacao=matriz_correlacao\n",
        "    )\n",
        "\n",
        "    # Salvar o relatório em um arquivo HTML\n",
        "    with open('relatorio_iris.html', 'w', encoding='utf-8') as arquivo_html:\n",
        "        arquivo_html.write(html_renderizado)\n",
        "\n",
        "    print(\"Relatório gerado com sucesso!\")"
      ],
      "metadata": {
        "id": "sJPLmdjdWSaH"
      },
      "execution_count": 15,
      "outputs": []
    },
    {
      "cell_type": "code",
      "source": [
        "# Gera o relatório HTML\n",
        "gerar_html(data)"
      ],
      "metadata": {
        "colab": {
          "base_uri": "https://localhost:8080/"
        },
        "id": "eaN2J7bgW72S",
        "outputId": "cfad9149-51d2-4a18-e8c6-8ceaccc2fce1"
      },
      "execution_count": 16,
      "outputs": [
        {
          "output_type": "stream",
          "name": "stdout",
          "text": [
            "Relatório gerado com sucesso!\n"
          ]
        }
      ]
    }
  ]
}